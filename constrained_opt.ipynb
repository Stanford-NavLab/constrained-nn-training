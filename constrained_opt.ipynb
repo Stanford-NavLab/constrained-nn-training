{
 "cells": [
  {
   "cell_type": "code",
   "execution_count": null,
   "metadata": {},
   "outputs": [],
   "source": [
    "import torch\n",
    "import torch.nn as nn\n",
    "import torch.nn.functional as F\n",
    "import torch.optim as optim\n",
    "import numpy as np\n",
    "import matplotlib.pyplot as plt\n",
    "from timeit import default_timer as timer\n",
    "\n",
    "import cvxpy as cp\n",
    "from cvxpylayers.torch import CvxpyLayer\n",
    "\n",
    "from util.collision_loss import torch_collision_check, NN_constraint_step\n",
    "from util.zonotope import Zonotope, TorchZonotope\n",
    "from util.constrained_zonotope import TorchConstrainedZonotope\n",
    "from util.NN_con_zono import forward_pass_NN_torch, forward_pass_NN_con_zono_torch"
   ]
  },
  {
   "cell_type": "code",
   "execution_count": null,
   "metadata": {},
   "outputs": [],
   "source": [
    "device = torch.device(\"cuda:0\" if torch.cuda.is_available() else \"cpu\")\n",
    "torch.cuda.set_device(device)"
   ]
  },
  {
   "cell_type": "markdown",
   "metadata": {},
   "source": [
    "# Neural network collision update"
   ]
  },
  {
   "cell_type": "code",
   "execution_count": null,
   "metadata": {},
   "outputs": [],
   "source": [
    "# Toy 2 Layer network\n",
    "# 2 - 10 - 2\n",
    "\n",
    "class Net(nn.Module):\n",
    "\n",
    "    def __init__(self):\n",
    "        super(Net, self).__init__()\n",
    "        # an affine operation: y = Wx + b\n",
    "        self.fc1 = nn.Linear(2, 10)  \n",
    "        self.fc2 = nn.Linear(10, 2)  \n",
    "\n",
    "    def forward(self, x):\n",
    "        x = F.relu(self.fc1(x))\n",
    "        x = self.fc2(x)\n",
    "        return x\n",
    "\n",
    "net = Net()"
   ]
  },
  {
   "cell_type": "code",
   "execution_count": null,
   "metadata": {},
   "outputs": [],
   "source": [
    "net.to(device)"
   ]
  },
  {
   "cell_type": "code",
   "execution_count": null,
   "metadata": {
    "scrolled": true
   },
   "outputs": [],
   "source": [
    "# input zonotope\n",
    "Z_in = TorchZonotope(torch.zeros(2,1).to(device),torch.eye(2).to(device))\n",
    "\n",
    "# output constraint zonotope (\"obstacle\")\n",
    "c_obs = torch.tensor([[0.1],[0.2]]).to(device)\n",
    "G_obs = torch.diag(torch.tensor([0.05,0.05]).to(device))\n",
    "Z_obs = TorchConstrainedZonotope(c_obs, G_obs)\n",
    "\n",
    "# compute initial reachable set\n",
    "Z_out = forward_pass_NN_torch(Z_in, net)\n",
    "\n",
    "# plot zonotopes\n",
    "fig, (ax1, ax2) = plt.subplots(1, 2, figsize=(20,10))\n",
    "for z in Z_out:\n",
    "    z.plot(ax1)\n",
    "Z_obs.plot(ax1, 'r')\n",
    "# plot samples\n",
    "N_samples = 10000\n",
    "X_in = np.random.uniform(-1, 1, (N_samples,2))\n",
    "X_in = torch.as_tensor(X_in, dtype=torch.float).to(device)\n",
    "Y_out = net(X_in)\n",
    "ax2.scatter(Y_out[:,0].cpu().detach().numpy(), Y_out[:,1].cpu().detach().numpy())"
   ]
  },
  {
   "cell_type": "code",
   "execution_count": null,
   "metadata": {},
   "outputs": [],
   "source": [
    "# constraint optimizer\n",
    "con_opt = optim.SGD(net.parameters(), lr=0.1)\n",
    "\n",
    "torch.autograd.set_detect_anomaly(True)\n",
    "# # take a constraint step\n",
    "\n",
    "NN_constraint_step(Z_in, Z_obs, net, con_opt)\n",
    "\n",
    "# recompute reachable set\n",
    "Z_out = forward_pass_NN_torch(Z_in, net)\n",
    "\n",
    "# plot zonotopes\n",
    "fig, (ax1, ax2) = plt.subplots(1, 2, figsize=(20,10))\n",
    "for z in Z_out:\n",
    "    z.plot(ax1)\n",
    "Z_obs.plot(ax1, 'r')\n",
    "# plot samples\n",
    "N_samples = 10000\n",
    "X_in = np.random.uniform(-1, 1, (N_samples,2))\n",
    "X_in = torch.as_tensor(X_in, dtype=torch.float).to(device)\n",
    "Y_out = net(X_in)\n",
    "ax2.scatter(Y_out[:,0].cpu().detach().numpy(), Y_out[:,1].cpu().detach().numpy())"
   ]
  },
  {
   "cell_type": "markdown",
   "metadata": {},
   "source": [
    "# Neural network function approximator"
   ]
  },
  {
   "cell_type": "code",
   "execution_count": null,
   "metadata": {},
   "outputs": [],
   "source": [
    "# 3 Layer ReLU Feedforward Network\n",
    "# 2 - 100 - 100 - 2\n",
    "\n",
    "# n_L1 = 10\n",
    "# n_L2 = 10\n",
    "\n",
    "# class Net(nn.Module):\n",
    "\n",
    "#     def __init__(self):\n",
    "#         super(Net, self).__init__()\n",
    "#         # an affine operation: y = Wx + b\n",
    "#         self.fc1 = nn.Linear(2, n_L2)  \n",
    "#         self.fc2 = nn.Linear(n_L1, n_L2)\n",
    "#         self.fc3 = nn.Linear(n_L2, 2)\n",
    "\n",
    "#     def forward(self, x):\n",
    "#         x = F.relu(self.fc1(x))\n",
    "#         x = F.relu(self.fc2(x))\n",
    "#         x = self.fc3(x)\n",
    "#         return x\n",
    "\n",
    "# net = Net()\n",
    "\n",
    "class Net(nn.Module):\n",
    "\n",
    "    def __init__(self):\n",
    "        super(Net, self).__init__()\n",
    "        # an affine operation: y = Wx + b\n",
    "        self.fc1 = nn.Linear(2, 10)  \n",
    "        self.fc2 = nn.Linear(10, 2)  \n",
    "\n",
    "    def forward(self, x):\n",
    "        x = F.relu(self.fc1(x))\n",
    "        x = self.fc2(x)\n",
    "        return x\n",
    "\n",
    "net = Net()\n",
    "net.to(device)"
   ]
  },
  {
   "cell_type": "code",
   "execution_count": null,
   "metadata": {},
   "outputs": [],
   "source": [
    "# Use nonlinear function to generate data\n",
    "# nonlinear function (vectorized)\n",
    "def f_nonl(x):\n",
    "    return np.array([x[:,0]**2 + np.sin(x[:,1]),\n",
    "                     x[:,1]**2 + np.sin(x[:,0])])\n",
    "\n",
    "# training set\n",
    "N_train = 10000\n",
    "X_train = np.random.uniform(-1, 1, (N_train,2))\n",
    "\n",
    "# compute y's\n",
    "Y_train = f_nonl(X_train)\n",
    "\n",
    "X_train = torch.as_tensor(X_train, dtype=torch.float).to(device)\n",
    "Y_train = torch.as_tensor(Y_train.T, dtype=torch.float).to(device)"
   ]
  },
  {
   "cell_type": "code",
   "execution_count": null,
   "metadata": {},
   "outputs": [],
   "source": [
    "# test set\n",
    "N_test = 10000\n",
    "X_test = np.random.uniform(-1, 1, (N_test,2))\n",
    "\n",
    "# compute y's\n",
    "Y_test = f_nonl(X_test)\n",
    "\n",
    "X_test = torch.as_tensor(X_test, dtype=torch.float).to(device)\n",
    "Y_test = torch.as_tensor(Y_test.T, dtype=torch.float).to(device)"
   ]
  },
  {
   "cell_type": "code",
   "execution_count": null,
   "metadata": {},
   "outputs": [],
   "source": [
    "# train the network\n",
    "optimizer = optim.SGD(net.parameters(), lr=0.1)\n",
    "\n",
    "loss = nn.MSELoss()\n",
    "\n",
    "num_iters = 1000\n",
    "\n",
    "# training loop:\n",
    "for i in range(num_iters):\n",
    "    optimizer.zero_grad()   # zero the gradient buffers\n",
    "\n",
    "    pred = net(X_train)\n",
    "\n",
    "    output = loss(pred, Y_train)\n",
    "    #print('loss: ', output)\n",
    "    output.backward()\n",
    "    optimizer.step() "
   ]
  },
  {
   "cell_type": "code",
   "execution_count": null,
   "metadata": {},
   "outputs": [],
   "source": [
    "Y_test_pred = net(X_test)\n",
    "test_loss = loss(Y_test_pred, Y_test)\n",
    "\n",
    "fig, (ax1, ax2, ax3) = plt.subplots(1, 3, figsize=(24,8))\n",
    "color_vec = torch.sum(X_test[:,:2],dim=1).cpu()\n",
    "ax1.scatter(X_test[:,0].cpu(), X_test[:,1].cpu(),c=color_vec,cmap=\"gist_rainbow\")\n",
    "ax1.set_title('X test')\n",
    "ax2.scatter(Y_test[:,0].cpu(), Y_test[:,1].cpu(),c=color_vec,cmap=\"gist_rainbow\")\n",
    "ax2.set_title('Y test')\n",
    "ax3.scatter(Y_test_pred[:,0].cpu().detach().numpy(), Y_test_pred[:,1].cpu().detach().numpy(),c=color_vec,cmap=\"gist_rainbow\")\n",
    "ax3.set_title('Y test pred')"
   ]
  },
  {
   "cell_type": "markdown",
   "metadata": {},
   "source": [
    "# Constrained training\n",
    "Train function approximator under some obstacle constraints"
   ]
  },
  {
   "cell_type": "code",
   "execution_count": null,
   "metadata": {},
   "outputs": [],
   "source": [
    "# input zonotope\n",
    "Z_in = TorchZonotope(torch.zeros(2,1).to(device),torch.eye(2).to(device))\n",
    "\n",
    "# output constraint zonotope (\"obstacle\")\n",
    "c_obs = torch.tensor([[1.5],[1.5]]).to(device)\n",
    "G_obs = torch.diag(torch.tensor([0.5,0.5]).to(device))\n",
    "Z_obs = TorchConstrainedZonotope(c_obs, G_obs)\n",
    "\n",
    "# compute initial reachable set\n",
    "Z_out = forward_pass_NN_torch(Z_in, net)\n",
    "\n",
    "# plot zonotopes\n",
    "fig, (ax1, ax2) = plt.subplots(1, 2, figsize=(20,10))\n",
    "for z in Z_out:\n",
    "    z.plot(ax1)\n",
    "Z_obs.plot(ax1, 'r')\n",
    "# plot samples\n",
    "N_samples = 10000\n",
    "X_in = np.random.uniform(-1, 1, (N_samples,2))\n",
    "X_in = torch.as_tensor(X_in, dtype=torch.float).to(device)\n",
    "Y_out = net(X_in)\n",
    "color_vec = torch.sum(X_in,dim=1).cpu()\n",
    "ax2.scatter(Y_out[:,0].cpu().detach().numpy(), Y_out[:,1].cpu().detach().numpy(),c=color_vec,cmap=\"gist_rainbow\")"
   ]
  },
  {
   "cell_type": "code",
   "execution_count": null,
   "metadata": {},
   "outputs": [],
   "source": [
    "# objective optimizer\n",
    "obj_opt = optim.SGD(net.parameters(), lr=0.1)\n",
    "\n",
    "# constraint optimizer\n",
    "con_opt = optim.SGD(net.parameters(), lr=0.1)\n",
    "\n",
    "obj = nn.MSELoss()\n",
    "\n",
    "num_iters = 100\n",
    "\n",
    "# training loop:\n",
    "for i in range(num_iters):\n",
    "    print(\"iter: \", i)\n",
    "    # objective update\n",
    "    obj_opt.zero_grad()   # zero the gradient buffers\n",
    "\n",
    "    pred = net(X_train)\n",
    "\n",
    "    obj_loss = obj(pred, Y_train)\n",
    "    obj_loss.backward()\n",
    "    obj_opt.step() \n",
    "\n",
    "    # constraint update\n",
    "    NN_constraint_step(Z_in, Z_obs, net, con_opt)"
   ]
  },
  {
   "cell_type": "code",
   "execution_count": null,
   "metadata": {},
   "outputs": [],
   "source": [
    "# recompute reachable set\n",
    "Z_out = forward_pass_NN_torch(Z_in, net)\n",
    "\n",
    "# plot zonotopes\n",
    "fig, (ax1, ax2) = plt.subplots(1, 2, figsize=(20,10))\n",
    "for z in Z_out:\n",
    "    z.plot(ax1)\n",
    "Z_obs.plot(ax1, 'r')\n",
    "# plot samples\n",
    "N_samples = 10000\n",
    "X_in = np.random.uniform(-1, 1, (N_samples,2))\n",
    "X_in = torch.as_tensor(X_in, dtype=torch.float).to(device)\n",
    "Y_out = net(X_in)\n",
    "color_vec = torch.sum(X_in,dim=1).cpu()\n",
    "ax2.scatter(Y_out[:,0].cpu().detach().numpy(), Y_out[:,1].cpu().detach().numpy(),c=color_vec,cmap=\"gist_rainbow\")"
   ]
  },
  {
   "cell_type": "code",
   "execution_count": null,
   "metadata": {},
   "outputs": [],
   "source": []
  }
 ],
 "metadata": {
  "kernelspec": {
   "display_name": "Python 3",
   "language": "python",
   "name": "python3"
  },
  "language_info": {
   "codemirror_mode": {
    "name": "ipython",
    "version": 3
   },
   "file_extension": ".py",
   "mimetype": "text/x-python",
   "name": "python",
   "nbconvert_exporter": "python",
   "pygments_lexer": "ipython3",
   "version": "3.8.5"
  },
  "metadata": {
   "interpreter": {
    "hash": "1482548d84cd7364095636d674edf388250952b5e53e00df7916bd6a74ee53b5"
   }
  }
 },
 "nbformat": 4,
 "nbformat_minor": 2
}
