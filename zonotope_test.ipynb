{
 "metadata": {
  "language_info": {
   "codemirror_mode": {
    "name": "ipython",
    "version": 3
   },
   "file_extension": ".py",
   "mimetype": "text/x-python",
   "name": "python",
   "nbconvert_exporter": "python",
   "pygments_lexer": "ipython3",
   "version": "3.8.8"
  },
  "orig_nbformat": 2,
  "kernelspec": {
   "name": "python388jvsc74a57bd029fc1f6b7da65cbaa4d0a6bd10cc049016b2af893b1767818cd06e30f3ee32e1",
   "display_name": "Python 3.8.8 64-bit ('reach-net': conda)"
  },
  "metadata": {
   "interpreter": {
    "hash": "29fc1f6b7da65cbaa4d0a6bd10cc049016b2af893b1767818cd06e30f3ee32e1"
   }
  }
 },
 "nbformat": 4,
 "nbformat_minor": 2,
 "cells": [
  {
   "cell_type": "code",
   "execution_count": 1,
   "metadata": {},
   "outputs": [],
   "source": [
    "import numpy as np\n",
    "import matplotlib.pyplot as plt\n",
    "\n",
    "from util.zonotope import Zonotope\n",
    "from util.constrained_zonotope import ConstrainedZonotope"
   ]
  },
  {
   "cell_type": "code",
   "execution_count": 2,
   "metadata": {},
   "outputs": [],
   "source": [
    "z1 = Zonotope(np.zeros((2,1)),np.eye(2))\n",
    "z2 = Zonotope(np.ones((2,1)),np.eye(2))"
   ]
  },
  {
   "cell_type": "code",
   "execution_count": 3,
   "metadata": {},
   "outputs": [],
   "source": [
    "z3 = np.eye(2) * z1"
   ]
  },
  {
   "cell_type": "code",
   "execution_count": 4,
   "metadata": {},
   "outputs": [
    {
     "output_type": "stream",
     "name": "stdout",
     "text": [
      "center:\n [[0.]\n [0.]] \n generators:\n [[1. 0.]\n [0. 1.]]\n"
     ]
    }
   ],
   "source": [
    "print(z3)"
   ]
  },
  {
   "cell_type": "code",
   "execution_count": 5,
   "metadata": {},
   "outputs": [
    {
     "output_type": "stream",
     "name": "stdout",
     "text": [
      "center:\n [[1.]\n [1.]] \n generators:\n [[1. 0. 1. 0.]\n [0. 1. 0. 1.]]\n"
     ]
    }
   ],
   "source": [
    "print(z1 + z2)"
   ]
  },
  {
   "cell_type": "code",
   "execution_count": 5,
   "metadata": {},
   "outputs": [
    {
     "output_type": "execute_result",
     "data": {
      "text/plain": [
       "array([[-1.,  1.,  1., -1.],\n",
       "       [-1., -1.,  1.,  1.]])"
      ]
     },
     "metadata": {},
     "execution_count": 5
    }
   ],
   "source": [
    "z3.vertices()"
   ]
  },
  {
   "cell_type": "code",
   "execution_count": 21,
   "metadata": {},
   "outputs": [],
   "source": [
    "G = np.random.rand(3,4) - 0.5\n",
    "Gnorm = G\n",
    "Gnorm[:,G[1,:]<0] = Gnorm[:,G[1,:]<0] * -1"
   ]
  },
  {
   "cell_type": "code",
   "execution_count": 28,
   "metadata": {},
   "outputs": [
    {
     "output_type": "execute_result",
     "data": {
      "text/plain": [
       "array([1, 2, 0, 3], dtype=int64)"
      ]
     },
     "metadata": {},
     "execution_count": 28
    }
   ],
   "source": [
    "angles = np.arctan(G[0,:],G[1,:])\n",
    "np.argsort(angles)"
   ]
  },
  {
   "cell_type": "code",
   "execution_count": null,
   "metadata": {},
   "outputs": [],
   "source": []
  }
 ]
}