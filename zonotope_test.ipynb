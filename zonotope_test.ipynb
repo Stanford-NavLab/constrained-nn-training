{
 "metadata": {
  "language_info": {
   "codemirror_mode": {
    "name": "ipython",
    "version": 3
   },
   "file_extension": ".py",
   "mimetype": "text/x-python",
   "name": "python",
   "nbconvert_exporter": "python",
   "pygments_lexer": "ipython3",
   "version": "3.8.10"
  },
  "orig_nbformat": 2,
  "kernelspec": {
   "name": "python3810jvsc74a57bd00e4d859fb8a0ad1c8f202d01ca00ae23b252102f36a988fa3f0899d5572ebd11",
   "display_name": "Python 3.8.10 64-bit ('reach-net': conda)"
  },
  "metadata": {
   "interpreter": {
    "hash": "29fc1f6b7da65cbaa4d0a6bd10cc049016b2af893b1767818cd06e30f3ee32e1"
   }
  }
 },
 "nbformat": 4,
 "nbformat_minor": 2,
 "cells": [
  {
   "cell_type": "code",
   "execution_count": null,
   "metadata": {},
   "outputs": [],
   "source": [
    "import numpy as np\n",
    "import torch\n",
    "import matplotlib.pyplot as plt\n",
    "\n",
    "from util.zonotope import Zonotope, TorchZonotope\n",
    "from util.constrained_zonotope import ConstrainedZonotope, TorchConstrainedZonotope"
   ]
  },
  {
   "cell_type": "code",
   "execution_count": null,
   "metadata": {},
   "outputs": [],
   "source": [
    "tz1 = TorchConstrainedZonotope(torch.zeros(2,1),torch.eye(2))\n",
    "tz2 = TorchConstrainedZonotope(torch.zeros(2,1),torch.eye(2))\n",
    "print(tz1.intersect(tz2))"
   ]
  },
  {
   "cell_type": "code",
   "execution_count": null,
   "metadata": {},
   "outputs": [],
   "source": [
    "z3 = np.eye(2) * z1"
   ]
  },
  {
   "cell_type": "code",
   "execution_count": null,
   "metadata": {},
   "outputs": [],
   "source": [
    "print(z3)"
   ]
  },
  {
   "cell_type": "code",
   "execution_count": null,
   "metadata": {},
   "outputs": [],
   "source": [
    "print(z1 + z2)"
   ]
  },
  {
   "cell_type": "code",
   "execution_count": null,
   "metadata": {},
   "outputs": [],
   "source": [
    "G = np.array([[6, 1, 6, 3], [1, 10, 3, 8]])\n",
    "z = Zonotope(G[:,0][:,None], G[:,1:])\n",
    "z.vertices()\n",
    "z.plot()"
   ]
  },
  {
   "cell_type": "code",
   "execution_count": null,
   "metadata": {},
   "outputs": [],
   "source": [
    "\n",
    "z4 = z1 = Zonotope(np.zeros((2,1))+2.0,np.eye(2))\n",
    "theta = 0.785\n",
    "z5 = Zonotope(np.zeros((2,1)),np.array([[np.cos(theta),-np.sin(theta)],\n",
    "                                        [np.sin(theta),np.cos(theta)]]))\n",
    "fig, ax = plt.subplots()\n",
    "z4.plot(ax,'g')\n",
    "z5.plot(ax)\n",
    "(z4+z5).plot(ax,'r')\n",
    "\n",
    "plt.show()"
   ]
  },
  {
   "cell_type": "code",
   "execution_count": null,
   "metadata": {},
   "outputs": [],
   "source": [
    "import matplotlib\n",
    "from matplotlib.patches import Polygon\n",
    "from matplotlib.collections import PatchCollection\n",
    "fig, ax = plt.subplots()\n",
    "poly = Polygon(np.random.rand(5 ,2), True, color='r', alpha=0.4)\n",
    "#p = PatchCollection([poly], cmap=matplotlib.cm.jet, alpha=0.4)\n",
    "p = PatchCollection([poly], match_original=True)\n",
    "ax.add_collection(p)\n",
    "plt.show()"
   ]
  },
  {
   "cell_type": "code",
   "execution_count": null,
   "metadata": {},
   "outputs": [],
   "source": []
  }
 ]
}