{
 "metadata": {
  "language_info": {
   "codemirror_mode": {
    "name": "ipython",
    "version": 3
   },
   "file_extension": ".py",
   "mimetype": "text/x-python",
   "name": "python",
   "nbconvert_exporter": "python",
   "pygments_lexer": "ipython3",
   "version": "3.8.10"
  },
  "orig_nbformat": 2,
  "kernelspec": {
   "name": "python3810jvsc74a57bd00e4d859fb8a0ad1c8f202d01ca00ae23b252102f36a988fa3f0899d5572ebd11",
   "display_name": "Python 3.8.10 64-bit ('reach-net': conda)"
  },
  "metadata": {
   "interpreter": {
    "hash": "1482548d84cd7364095636d674edf388250952b5e53e00df7916bd6a74ee53b5"
   }
  }
 },
 "nbformat": 4,
 "nbformat_minor": 2,
 "cells": [
  {
   "cell_type": "code",
   "execution_count": null,
   "metadata": {},
   "outputs": [],
   "source": [
    "import torch\n",
    "import torch.nn as nn\n",
    "import torch.nn.functional as F\n",
    "import torch.optim as optim\n",
    "import numpy as np\n",
    "import matplotlib.pyplot as plt\n",
    "from timeit import default_timer as timer\n",
    "\n",
    "import cvxpy as cp\n",
    "from cvxpylayers.torch import CvxpyLayer\n",
    "\n",
    "from util.collision_loss import torch_collision_check\n",
    "from util.zonotope import Zonotope, TorchZonotope\n",
    "from util.constrained_zonotope import ConstrainedZonotope, TorchConstrainedZonotope\n",
    "from util.NN_con_zono import forward_pass_NN_torch"
   ]
  },
  {
   "source": [
    "# Neural network reachability"
   ],
   "cell_type": "markdown",
   "metadata": {}
  },
  {
   "cell_type": "code",
   "execution_count": null,
   "metadata": {},
   "outputs": [],
   "source": [
    "# Toy 2 Layer network\n",
    "# 2 - 3 - 2\n",
    "\n",
    "class Net(nn.Module):\n",
    "\n",
    "    def __init__(self):\n",
    "        super(Net, self).__init__()\n",
    "        # an affine operation: y = Wx + b\n",
    "        self.fc1 = nn.Linear(2, 3)  \n",
    "        self.fc2 = nn.Linear(3, 2)  \n",
    "\n",
    "    def forward(self, x):\n",
    "        x = F.relu(self.fc1(x))\n",
    "        x = self.fc2(x)\n",
    "        return x\n",
    "\n",
    "net = Net()"
   ]
  },
  {
   "cell_type": "code",
   "execution_count": null,
   "metadata": {},
   "outputs": [],
   "source": [
    "for param in net.parameters():\n",
    "    print(param)"
   ]
  },
  {
   "cell_type": "code",
   "execution_count": null,
   "metadata": {},
   "outputs": [],
   "source": [
    "# input zonotope\n",
    "Z_in = TorchZonotope(torch.zeros(2,1),torch.eye(2))\n",
    "\n",
    "# compute initial reachable set\n",
    "t_start = timer()\n",
    "Z_out = forward_pass_NN_torch(Z_in, net)\n",
    "t_end = timer()\n",
    "print(\"elapsed time (s): \", t_end - t_start)\n",
    "\n",
    "for z in Z_out:\n",
    "    print(z)"
   ]
  },
  {
   "cell_type": "code",
   "execution_count": null,
   "metadata": {},
   "outputs": [],
   "source": [
    "# plot zonotopes\n",
    "fig, (ax1, ax2) = plt.subplots(1, 2, figsize=(20,10))\n",
    "for z in Z_out:\n",
    "    z.plot(ax1)\n",
    "# plot samples\n",
    "N_samples = 10000\n",
    "X_in = np.random.uniform(-1, 1, (N_samples,2))\n",
    "X_in = torch.as_tensor(X_in, dtype=torch.float)\n",
    "Y_out = net(X_in)\n",
    "ax2.scatter(Y_out[:,0].detach().numpy(), Y_out[:,1].detach().numpy())"
   ]
  },
  {
   "source": [
    "# Rollout function composition"
   ],
   "cell_type": "markdown",
   "metadata": {}
  },
  {
   "cell_type": "code",
   "execution_count": null,
   "metadata": {},
   "outputs": [],
   "source": [
    "from util.NN_con_zono import ReLU_con_zono_single"
   ]
  },
  {
   "cell_type": "code",
   "execution_count": null,
   "metadata": {},
   "outputs": [],
   "source": []
  }
 ]
}