{
 "cells": [
  {
   "cell_type": "code",
   "execution_count": null,
   "id": "970e6f13",
   "metadata": {},
   "outputs": [],
   "source": [
    "import numpy as np\n",
    "from matplotlib import cm \n",
    "import matplotlib.pyplot as plt\n",
    "from scipy.ndimage import label\n",
    "\n",
    "from util.zonotope import Zonotope"
   ]
  },
  {
   "cell_type": "code",
   "execution_count": null,
   "id": "1673152b",
   "metadata": {},
   "outputs": [],
   "source": [
    "h = 5  # height\n",
    "w = 10 # width\n",
    "pobs = 0.25  # rough percent of space (by area) that have obstacles\n",
    "\n",
    "# initialize random values\n",
    "grid = np.random.uniform(low=0.0,high=1.0,size=(h,w))\n",
    "# threshold based on obstacle percentage\n",
    "grid = np.where(grid < pobs, 1.0, 0.0)\n",
    "\n"
   ]
  },
  {
   "cell_type": "code",
   "execution_count": null,
   "id": "19c2e048",
   "metadata": {},
   "outputs": [],
   "source": [
    "# plot the grid\n",
    "plt.imshow(grid,cmap= cm.get_cmap('gray').reversed())\n",
    "plt.gca().invert_yaxis()\n",
    "plt.show()"
   ]
  },
  {
   "cell_type": "code",
   "execution_count": null,
   "id": "1ef66143",
   "metadata": {},
   "outputs": [],
   "source": [
    "labels, numL = label(grid)\n",
    "label_indices = [(labels == i).nonzero() for i in range(1, numL+1)]"
   ]
  },
  {
   "cell_type": "code",
   "execution_count": null,
   "id": "ea0472d6",
   "metadata": {},
   "outputs": [],
   "source": [
    "zonos = []\n",
    "for obs in label_indices:\n",
    "    minx = min(obs[0])\n",
    "    maxx = max(obs[0]) + 1\n",
    "    cx = (maxx-minx)/2. + minx\n",
    "    miny = min(obs[1])\n",
    "    maxy = max(obs[1]) + 1\n",
    "    cy = (maxy-miny)/2. + miny\n",
    "\n",
    "    c = np.array([[cy],\n",
    "                  [cx]])\n",
    "    g = np.array([[maxy-cy,0.0],\n",
    "                  [0.0,maxx-cx]])\n",
    "    zono = Zonotope(c,g)\n",
    "    zonos.append(zono)\n",
    "    "
   ]
  },
  {
   "cell_type": "code",
   "execution_count": null,
   "id": "910eb07b",
   "metadata": {},
   "outputs": [],
   "source": [
    "fig, ax = plt.subplots()\n",
    "for zono in zonos:\n",
    "    zono.plot(ax)\n",
    "\n",
    "ax.axis('equal')\n",
    "plt.show()\n",
    "    "
   ]
  },
  {
   "cell_type": "code",
   "execution_count": null,
   "id": "529ee35e",
   "metadata": {},
   "outputs": [],
   "source": []
  }
 ],
 "metadata": {
  "kernelspec": {
   "name": "python388jvsc74a57bd029fc1f6b7da65cbaa4d0a6bd10cc049016b2af893b1767818cd06e30f3ee32e1",
   "display_name": "Python 3.8.8 64-bit ('reach-net': conda)"
  },
  "language_info": {
   "codemirror_mode": {
    "name": "ipython",
    "version": 3
   },
   "file_extension": ".py",
   "mimetype": "text/x-python",
   "name": "python",
   "nbconvert_exporter": "python",
   "pygments_lexer": "ipython3",
   "version": "3.8.8"
  }
 },
 "nbformat": 4,
 "nbformat_minor": 5
}