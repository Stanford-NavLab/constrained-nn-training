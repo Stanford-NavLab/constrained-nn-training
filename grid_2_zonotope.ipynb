{
 "cells": [
  {
   "cell_type": "code",
   "execution_count": 115,
   "id": "970e6f13",
   "metadata": {},
   "outputs": [],
   "source": [
    "import numpy as np\n",
    "from matplotlib import cm \n",
    "import matplotlib.pyplot as plt\n",
    "from scipy.ndimage import label\n",
    "\n",
    "from util.zonotope import Zonotope"
   ]
  },
  {
   "cell_type": "code",
   "execution_count": 131,
   "id": "1673152b",
   "metadata": {},
   "outputs": [],
   "source": [
    "h = 5  # height\n",
    "w = 10 # width\n",
    "pobs = 0.25  # rough percent of space (by area) that have obstacles\n",
    "\n",
    "# initialize random values\n",
    "grid = np.random.uniform(low=0.0,high=1.0,size=(h,w))\n",
    "# threshold based on obstacle percentage\n",
    "grid = np.where(grid < pobs, 1.0, 0.0)\n",
    "\n"
   ]
  },
  {
   "cell_type": "code",
   "execution_count": 132,
   "id": "19c2e048",
   "metadata": {},
   "outputs": [
    {
     "data": {
      "image/png": "[encoded data removed]",
      "text/plain": [
       "<Figure size 432x288 with 1 Axes>"
      ]
     },
     "metadata": {
      "needs_background": "light"
     },
     "output_type": "display_data"
    }
   ],
   "source": [
    "# plot the grid\n",
    "plt.imshow(grid,cmap= cm.get_cmap('gray').reversed())\n",
    "plt.gca().invert_yaxis()\n",
    "plt.show()"
   ]
  },
  {
   "cell_type": "code",
   "execution_count": 133,
   "id": "1ef66143",
   "metadata": {},
   "outputs": [],
   "source": [
    "labels, numL = label(grid)\n",
    "label_indices = [(labels == i).nonzero() for i in range(1, numL+1)]"
   ]
  },
  {
   "cell_type": "code",
   "execution_count": 134,
   "id": "ea0472d6",
   "metadata": {},
   "outputs": [],
   "source": [
    "zonos = []\n",
    "for obs in label_indices:\n",
    "    minx = min(obs[0])\n",
    "    maxx = max(obs[0]) + 1\n",
    "    cx = (maxx-minx)/2. + minx\n",
    "    miny = min(obs[1])\n",
    "    maxy = max(obs[1]) + 1\n",
    "    cy = (maxy-miny)/2. + miny\n",
    "\n",
    "    c = np.array([[cy],\n",
    "                  [cx]])\n",
    "    g = np.array([[maxy-cy,0.0],\n",
    "                  [0.0,maxx-cx]])\n",
    "    zono = Zonotope(c,g)\n",
    "    zonos.append(zono)\n",
    "    "
   ]
  },
  {
   "cell_type": "code",
   "execution_count": 135,
   "id": "910eb07b",
   "metadata": {},
   "outputs": [
    {
     "data": {
      "image/png": "[encoded data removed]",
      "text/plain": [
       "<Figure size 432x288 with 1 Axes>"
      ]
     },
     "metadata": {
      "needs_background": "light"
     },
     "output_type": "display_data"
    }
   ],
   "source": [
    "fig, ax = plt.subplots()\n",
    "for zono in zonos:\n",
    "    zono.plot(ax)\n",
    "\n",
    "ax.axis('equal')\n",
    "plt.show()\n",
    "    "
   ]
  },
  {
   "cell_type": "code",
   "execution_count": null,
   "id": "529ee35e",
   "metadata": {},
   "outputs": [],
   "source": []
  }
 ],
 "metadata": {
  "kernelspec": {
   "display_name": "Python 3",
   "language": "python",
   "name": "python3"
  },
  "language_info": {
   "codemirror_mode": {
    "name": "ipython",
    "version": 3
   },
   "file_extension": ".py",
   "mimetype": "text/x-python",
   "name": "python",
   "nbconvert_exporter": "python",
   "pygments_lexer": "ipython3",
   "version": "3.8.5"
  }
 },
 "nbformat": 4,
 "nbformat_minor": 5
}
