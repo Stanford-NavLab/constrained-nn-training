{
 "metadata": {
  "language_info": {
   "codemirror_mode": {
    "name": "ipython",
    "version": 3
   },
   "file_extension": ".py",
   "mimetype": "text/x-python",
   "name": "python",
   "nbconvert_exporter": "python",
   "pygments_lexer": "ipython3",
   "version": "3.8.8"
  },
  "orig_nbformat": 2,
  "kernelspec": {
   "name": "python388jvsc74a57bd029fc1f6b7da65cbaa4d0a6bd10cc049016b2af893b1767818cd06e30f3ee32e1",
   "display_name": "Python 3.8.8 64-bit ('reach-net': conda)"
  },
  "metadata": {
   "interpreter": {
    "hash": "1482548d84cd7364095636d674edf388250952b5e53e00df7916bd6a74ee53b5"
   }
  }
 },
 "nbformat": 4,
 "nbformat_minor": 2,
 "cells": [
  {
   "cell_type": "code",
   "execution_count": 1,
   "metadata": {},
   "outputs": [],
   "source": [
    "import torch\n",
    "import torch.nn as nn\n",
    "import torch.nn.functional as F"
   ]
  },
  {
   "cell_type": "code",
   "execution_count": 2,
   "metadata": {},
   "outputs": [
    {
     "output_type": "stream",
     "name": "stdout",
     "text": [
      "Net(\n  (fc1): Linear(in_features=4, out_features=16, bias=True)\n  (fc2): Linear(in_features=16, out_features=10, bias=True)\n  (fc3): Linear(in_features=10, out_features=6, bias=True)\n)\n"
     ]
    }
   ],
   "source": [
    "# 3 Layer ReLU Feedforward Network\n",
    "# Output: zonotope of dimension 2, order 2 (6 total parameters)\n",
    "\n",
    "class Net(nn.Module):\n",
    "\n",
    "    def __init__(self):\n",
    "        super(Net, self).__init__()\n",
    "        # an affine operation: y = Wx + b\n",
    "        self.fc1 = nn.Linear(4, 16)  # 5*5 from image dimension\n",
    "        self.fc2 = nn.Linear(16, 10)\n",
    "        self.fc3 = nn.Linear(10, 6)\n",
    "\n",
    "    def forward(self, x):\n",
    "        x = F.relu(self.fc1(x))\n",
    "        x = F.relu(self.fc2(x))\n",
    "        x = self.fc3(x)\n",
    "        return x\n",
    "\n",
    "    def num_flat_features(self, x):\n",
    "        size = x.size()[1:]  # all dimensions except the batch dimension\n",
    "        num_features = 1\n",
    "        for s in size:\n",
    "            num_features *= s\n",
    "        return num_features\n",
    "\n",
    "\n",
    "net = Net()\n",
    "print(net)"
   ]
  },
  {
   "cell_type": "code",
   "execution_count": 4,
   "metadata": {},
   "outputs": [
    {
     "output_type": "stream",
     "name": "stdout",
     "text": [
      "tensor([[-0.2830, -0.0161, -0.0738, -0.3219,  0.0284,  0.1668]],\n       grad_fn=<AddmmBackward>)\n"
     ]
    }
   ],
   "source": [
    "input = torch.randn(1,4)\n",
    "out = net(input)\n",
    "print(out)"
   ]
  },
  {
   "cell_type": "code",
   "execution_count": null,
   "metadata": {},
   "outputs": [],
   "source": []
  }
 ]
}