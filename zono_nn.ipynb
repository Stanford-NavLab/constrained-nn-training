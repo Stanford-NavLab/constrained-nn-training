{
 "metadata": {
  "language_info": {
   "codemirror_mode": {
    "name": "ipython",
    "version": 3
   },
   "file_extension": ".py",
   "mimetype": "text/x-python",
   "name": "python",
   "nbconvert_exporter": "python",
   "pygments_lexer": "ipython3",
   "version": "3.8.8"
  },
  "orig_nbformat": 2,
  "kernelspec": {
   "name": "python388jvsc74a57bd029fc1f6b7da65cbaa4d0a6bd10cc049016b2af893b1767818cd06e30f3ee32e1",
   "display_name": "Python 3.8.8 64-bit ('reach-net': conda)"
  },
  "metadata": {
   "interpreter": {
    "hash": "1482548d84cd7364095636d674edf388250952b5e53e00df7916bd6a74ee53b5"
   }
  }
 },
 "nbformat": 4,
 "nbformat_minor": 2,
 "cells": [
  {
   "cell_type": "code",
   "execution_count": 46,
   "metadata": {},
   "outputs": [],
   "source": [
    "import torch\n",
    "import torch.nn as nn\n",
    "import torch.nn.functional as F\n",
    "import torch.optim as optim\n",
    "import numpy as np\n",
    "\n",
    "import cvxpy as cp\n",
    "from cvxpylayers.torch import CvxpyLayer\n",
    "\n",
    "from util.constrained_zonotope import ConstrainedZonotope"
   ]
  },
  {
   "source": [
    "# CVXPY Layer (Collision loss)"
   ],
   "cell_type": "markdown",
   "metadata": {}
  },
  {
   "cell_type": "code",
   "execution_count": 35,
   "metadata": {},
   "outputs": [
    {
     "output_type": "stream",
     "name": "stdout",
     "text": [
      "c2 before:\n [[1.]\n [1.]]\ngradient:\n [[1.0000002]\n [1.0000002]]\n"
     ]
    }
   ],
   "source": [
    "# formulate and solve collision check LP for pair of pre-defined zonotopes\n",
    "n = 2 # dimension\n",
    "m = 4 # combined order of 2 zonotopes\n",
    "\n",
    "c1 = np.zeros((2,1))\n",
    "G1 = np.eye(2)\n",
    "G2 = np.array([[0.5, 0.5],[-0.5, 0.5]])\n",
    "\n",
    "A = np.hstack((G1, -G2))\n",
    "\n",
    "z = cp.Variable((m, 1))\n",
    "v = cp.Variable()\n",
    "c2 = cp.Parameter((2, 1))\n",
    "\n",
    "b = c2 - c1\n",
    "\n",
    "constraints = [cp.pnorm(z, p=1) <= v,\n",
    "               A @ z == b]\n",
    "objective = cp.Minimize(v)\n",
    "problem = cp.Problem(objective, constraints)\n",
    "assert problem.is_dpp()\n",
    "\n",
    "cvxpylayer = CvxpyLayer(problem, parameters=[c2], variables=[z, v])\n",
    "#c2_tch = torch.randn(2, 1, requires_grad=True)\n",
    "c2_tch = torch.ones(2, 1, requires_grad=True)\n",
    "\n",
    "# solve the problem\n",
    "z_opt, v_opt = cvxpylayer(c2_tch)\n",
    "\n",
    "# compute the gradient of the sum of the solution with respect to c2\n",
    "print(\"c2 before:\\n\", c2_tch.detach().numpy())\n",
    "v_opt.backward()\n",
    "print(\"gradient:\\n\", c2_tch.grad.detach().numpy())"
   ]
  },
  {
   "cell_type": "code",
   "execution_count": 37,
   "metadata": {},
   "outputs": [],
   "source": [
    "# wrap in loss function\n",
    "def collision_loss(c2_tch):\n",
    "    # formulate and solve collision check LP for pair of pre-defined zonotopes\n",
    "    n = 2 # dimension\n",
    "    m = 4 # combined order of 2 zonotopes\n",
    "\n",
    "    c1 = np.zeros((2,1))\n",
    "    G1 = np.eye(2)\n",
    "    G2 = np.array([[0.5, 0.5],[-0.5, 0.5]])\n",
    "\n",
    "    A = np.hstack((G1, -G2))\n",
    "\n",
    "    z = cp.Variable((m, 1))\n",
    "    v = cp.Variable()\n",
    "    c2 = cp.Parameter((2, 1))\n",
    "\n",
    "    b = c2 - c1\n",
    "\n",
    "    constraints = [cp.pnorm(z, p=1) <= v,\n",
    "                   A @ z == b]\n",
    "    objective = cp.Minimize(v)\n",
    "    problem = cp.Problem(objective, constraints)\n",
    "    assert problem.is_dpp()\n",
    "\n",
    "    cvxpylayer = CvxpyLayer(problem, parameters=[c2], variables=[z, v])\n",
    "\n",
    "    # solve the problem\n",
    "    z_opt, loss = cvxpylayer(c2_tch)\n",
    "\n",
    "    return loss"
   ]
  },
  {
   "source": [
    "# Feedforward network"
   ],
   "cell_type": "markdown",
   "metadata": {}
  },
  {
   "cell_type": "code",
   "execution_count": 38,
   "metadata": {},
   "outputs": [
    {
     "output_type": "stream",
     "name": "stdout",
     "text": [
      "Net(\n  (fc1): Linear(in_features=4, out_features=16, bias=True)\n  (fc2): Linear(in_features=16, out_features=10, bias=True)\n  (fc3): Linear(in_features=10, out_features=2, bias=True)\n)\n"
     ]
    }
   ],
   "source": [
    "# 3 Layer ReLU Feedforward Network\n",
    "# Output: zonotope of dimension 2, order 2 (6 total parameters)\n",
    "\n",
    "class Net(nn.Module):\n",
    "\n",
    "    def __init__(self):\n",
    "        super(Net, self).__init__()\n",
    "        # an affine operation: y = Wx + b\n",
    "        self.fc1 = nn.Linear(4, 16)  # 5*5 from image dimension\n",
    "        self.fc2 = nn.Linear(16, 10)\n",
    "        self.fc3 = nn.Linear(10, 2)\n",
    "\n",
    "    def forward(self, x):\n",
    "        x = F.relu(self.fc1(x))\n",
    "        x = F.relu(self.fc2(x))\n",
    "        x = self.fc3(x)\n",
    "        return x\n",
    "\n",
    "    def num_flat_features(self, x):\n",
    "        size = x.size()[1:]  # all dimensions except the batch dimension\n",
    "        num_features = 1\n",
    "        for s in size:\n",
    "            num_features *= s\n",
    "        return num_features\n",
    "\n",
    "\n",
    "net = Net()\n",
    "print(net)"
   ]
  },
  {
   "cell_type": "code",
   "execution_count": 41,
   "metadata": {},
   "outputs": [
    {
     "output_type": "execute_result",
     "data": {
      "text/plain": [
       "tensor([[ 0.0290],\n",
       "        [-0.0203]], grad_fn=<ViewBackward>)"
      ]
     },
     "metadata": {},
     "execution_count": 41
    }
   ],
   "source": [
    "# feed an input through the network, compute loss and gradients\n",
    "inpt = torch.tensor([1,2,3,4], dtype=torch.float)\n",
    "out = net(inpt)\n",
    "torch.reshape(out, (2,1))"
   ]
  },
  {
   "cell_type": "code",
   "execution_count": 45,
   "metadata": {},
   "outputs": [
    {
     "output_type": "stream",
     "name": "stdout",
     "text": [
      "tensor([[ 0.0000,  0.0000,  0.0000,  0.0000],\n        [-0.0452, -0.0904, -0.1355, -0.1807],\n        [ 0.0000,  0.0000,  0.0000,  0.0000],\n        [-0.2450, -0.4900, -0.7351, -0.9801],\n        [ 0.0000,  0.0000,  0.0000,  0.0000],\n        [ 0.0000,  0.0000,  0.0000,  0.0000],\n        [ 0.0000,  0.0000,  0.0000,  0.0000],\n        [ 0.2599,  0.5197,  0.7796,  1.0395],\n        [ 0.0000,  0.0000,  0.0000,  0.0000],\n        [-0.0480, -0.0961, -0.1441, -0.1922],\n        [-0.2972, -0.5944, -0.8917, -1.1889],\n        [-0.2969, -0.5937, -0.8906, -1.1875],\n        [-0.2113, -0.4226, -0.6339, -0.8453],\n        [ 0.0000,  0.0000,  0.0000,  0.0000],\n        [-0.2919, -0.5838, -0.8758, -1.1677],\n        [ 0.0766,  0.1531,  0.2297,  0.3062]])\n"
     ]
    }
   ],
   "source": [
    "# feed an input through the network, compute loss and gradients\n",
    "inpt = torch.tensor([1,2,3,4], dtype=torch.float)\n",
    "out = net(inpt)\n",
    "loss = collision_loss(torch.reshape(out, (2,1)))\n",
    "loss.backward()\n",
    "print(net.fc1.weight.grad)"
   ]
  },
  {
   "cell_type": "code",
   "execution_count": 47,
   "metadata": {},
   "outputs": [],
   "source": [
    "# train the network\n",
    "optimizer = optim.SGD(net.parameters(), lr=0.01)\n",
    "\n",
    "num_iters = 5\n",
    "\n",
    "# training loop:\n",
    "for i in range(num_iters):\n",
    "    optimizer.zero_grad()   # zero the gradient buffers\n",
    "\n",
    "    # generate a new zonotope (center) from the network\n",
    "    out = net(inpt)\n",
    "\n",
    "    # plot the \n",
    "\n",
    "    loss = collision_loss(torch.reshape(out, (2,1)))\n",
    "    loss.backward()\n",
    "    optimizer.step() "
   ]
  },
  {
   "cell_type": "code",
   "execution_count": 4,
   "metadata": {},
   "outputs": [
    {
     "output_type": "stream",
     "name": "stdout",
     "text": [
      "center:\n\t[[-0.425]\n\t [ 0.034]]\ngenerators:\n\t[[-0.014 -0.065  0.     0.   ]\n\t [-0.167  0.345  0.     0.   ]]\nconstraint A:\n\t[[-0.014 -0.065 -1.    -0.   ]\n\t [-0.167  0.345 -0.    -1.   ]]\nconstraint b:\n\t[[ 0.425]\n\t [-0.034]]\n"
     ]
    }
   ],
   "source": [
    "# collision zonotope\n",
    "c_obs = np.zeros((2,1)); G_obs = np.eye(2)\n",
    "Z_obs = ConstrainedZonotope(c_obs, G_obs)\n",
    "Z_int = Z_out.intersect(Z_obs)\n",
    "print(Z_int)"
   ]
  },
  {
   "cell_type": "code",
   "execution_count": null,
   "metadata": {},
   "outputs": [],
   "source": []
  }
 ]
}